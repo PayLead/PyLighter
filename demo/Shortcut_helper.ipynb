{
 "cells": [
  {
   "cell_type": "markdown",
   "metadata": {},
   "source": [
    "# Using PyLighter shortcuts"
   ]
  },
  {
   "cell_type": "markdown",
   "metadata": {},
   "source": [
    "This notebook assumes that you are familiar with the basic usage of PyLigher. If not you can read the README.md or check the Simple_usage notebook. \n",
    "\n",
    "This notebook is a guide on using shortcuts in PyLighter.\n",
    "\n",
    "Here are the shortcuts that are predefined:\n",
    "- next: **Alt + n**\n",
    "- previous: **Alt + p**\n",
    "- skip: **Alt + s**\n",
    "- save: **Shift + Alt + s**\n",
    "\n",
    "NB: These shortcuts may not work for you because it depends on your browser and your keyboard (it is for Qwerty)."
   ]
  },
  {
   "cell_type": "markdown",
   "metadata": {},
   "source": [
    "## Defining the corpus"
   ]
  },
  {
   "cell_type": "code",
   "execution_count": null,
   "metadata": {},
   "outputs": [],
   "source": [
    "# Defining the corpus of documents to use throughout this notebook\n",
    "corpus = [\n",
    "     \"PyLighter is an annotation tool for NER tasks directly on Jupyter. \" \n",
    "    + \"It aims on helping data scientists easily and quickly annotate datasets. \"\n",
    "    + \"This tool was developed by Paylead.\",\n",
    "    \"PayLead is a fintech company specializing in transaction data analysis. \"\n",
    "    + \"Paylead brings retail and banking together, so customers get rewarded when they buy. \" \n",
    "    + \"Welcome to the data-for-value economy.\"\n",
    "]"
   ]
  },
  {
   "cell_type": "markdown",
   "metadata": {},
   "source": [
    "## Start annotating and try the shortcuts"
   ]
  },
  {
   "cell_type": "code",
   "execution_count": null,
   "metadata": {},
   "outputs": [],
   "source": [
    "# Import pylighter annotation tool !\n",
    "from pylighter import Annotation"
   ]
  },
  {
   "cell_type": "code",
   "execution_count": null,
   "metadata": {},
   "outputs": [],
   "source": [
    "# Start annotating !\n",
    "Annotation(corpus)"
   ]
  },
  {
   "cell_type": "markdown",
   "metadata": {},
   "source": [
    "## Changing the shortcuts"
   ]
  },
  {
   "cell_type": "markdown",
   "metadata": {},
   "source": [
    "To define a new shortcut, you need to use`pylighter.Shortcut`.\n",
    "\n",
    "A shortcut has 5 attributes:\n",
    "- name: The name of the shortcut. It must be the name of the label or the button (NB: the name of the eraser is eraser).\n",
    "- key: Usually represents the character that is displayed.case.\n",
    "- code: Usually represents the key that is pressed.\n",
    "- shift_key\n",
    "- alt_key\n",
    "- ctrl_key: For mac users, it is the real control key, not command."
   ]
  },
  {
   "cell_type": "code",
   "execution_count": null,
   "metadata": {},
   "outputs": [],
   "source": [
    "from pylighter import Shortcut\n",
    "\n",
    "# Defining cutsom labels (not mandatory for defining custom shortcuts for labels)\n",
    "labels_names = [\"Verb\", \"Person\", \"Org\", \"Loc\"]\n",
    "\n",
    "# Defining a new shortcut\n",
    "verb_shortcut = Shortcut(\n",
    "    name=\"Verb\",  # Name of the button to bind on (ex: \"next\", \"skip\") or name of the label (ex: \"l1\", \"l2\", or one you defined)\n",
    "    key=\"◊\",  # Usually represents the character that is displayed.\n",
    "    code=\"KeyV\",  # Usually represents the key that is pressed.\n",
    "    shift_key=False,  # Wether the shift key is pressed\n",
    "    alt_key=True,\n",
    "    ctrl_key=False\n",
    ")"
   ]
  },
  {
   "cell_type": "markdown",
   "metadata": {},
   "source": [
    "There is two ways for adding shortcuts:\n",
    "- labels_shortcuts: for shortcuts related to the labels\n",
    "- standard_shortcuts: for shortcuts related the buttons such as next, skip, etc."
   ]
  },
  {
   "cell_type": "code",
   "execution_count": null,
   "metadata": {},
   "outputs": [],
   "source": [
    "# Using the previously defined shortcut\n",
    "annotation = Annotation(corpus, labels_names=labels_names, labels_shortcuts=[verb_shortcut])"
   ]
  },
  {
   "cell_type": "markdown",
   "metadata": {},
   "source": [
    "NB: You can easily see the shortcut for a given button by hovering your mouse on it. If a shortcut is defined for that button, a tooltip should appear with the shortcuts keys."
   ]
  },
  {
   "cell_type": "markdown",
   "metadata": {},
   "source": [
    "## Using shortcut helper to define new shortcuts"
   ]
  },
  {
   "cell_type": "markdown",
   "metadata": {},
   "source": [
    "As you may have noticed, it is not really easy to define a new shortcut. Hopefully, you can use `pylighter.ShortcutHelper` to define new shortcuts."
   ]
  },
  {
   "cell_type": "code",
   "execution_count": null,
   "metadata": {},
   "outputs": [],
   "source": [
    "from pylighter import ShortcutHelper\n",
    "ShortcutHelper()"
   ]
  },
  {
   "cell_type": "code",
   "execution_count": null,
   "metadata": {},
   "outputs": [],
   "source": [
    "{\"key\":\"Ò\", \"code\":\"KeyS\", \"shift_key\":False, \"ctrl_key\":False, \"alt_key\":True}"
   ]
  },
  {
   "cell_type": "markdown",
   "metadata": {},
   "source": [
    "## Final note"
   ]
  },
  {
   "cell_type": "markdown",
   "metadata": {},
   "source": [
    "At this point, you should be able to define shortcuts that fits you the best.\n",
    "\n",
    "Keep in mind that if you are setting up shortcuts for a person that is not working on the same browser and same keyboard, then shortcuts that you defined may not work (even though it should work in most cases)."
   ]
  },
  {
   "cell_type": "code",
   "execution_count": null,
   "metadata": {},
   "outputs": [],
   "source": []
  }
 ],
 "metadata": {
  "kernelspec": {
   "display_name": "Python 3",
   "language": "python",
   "name": "python3"
  },
  "language_info": {
   "codemirror_mode": {
    "name": "ipython",
    "version": 3
   },
   "file_extension": ".py",
   "mimetype": "text/x-python",
   "name": "python",
   "nbconvert_exporter": "python",
   "pygments_lexer": "ipython3",
   "version": "3.7.9"
  }
 },
 "nbformat": 4,
 "nbformat_minor": 4
}
