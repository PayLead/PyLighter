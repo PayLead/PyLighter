{
 "cells": [
  {
   "cell_type": "markdown",
   "metadata": {},
   "source": [
    "# Using PyLighter for NER annotations"
   ]
  },
  {
   "cell_type": "markdown",
   "metadata": {},
   "source": [
    "This notebook is a step by step guide for getting started with PyLighter !\n",
    "\n",
    "Before getting started, the task for this example is to annotate verbs, persons, organisations and localities. For this use, let's define the following dataset:"
   ]
  },
  {
   "cell_type": "markdown",
   "metadata": {},
   "source": [
    "## Defining the corpus"
   ]
  },
  {
   "cell_type": "code",
   "execution_count": null,
   "metadata": {},
   "outputs": [],
   "source": [
    "# Defining the corpus of documents to use throughout this notebook\n",
    "corpus = [\n",
    "     \"PyLighter is an annotation tool for NER tasks directly on Jupyter. \" \n",
    "    + \"It aims on helping data scientists easily and quickly annotate datasets. \"\n",
    "    + \"This tool was developed by Paylead.\",\n",
    "    \"PayLead is a fintech company specializing in transaction data analysis. \"\n",
    "    + \"Paylead brings retail and banking together, so customers get rewarded when they buy. \" \n",
    "    + \"Welcome to the data-for-value economy.\"\n",
    "]"
   ]
  },
  {
   "cell_type": "markdown",
   "metadata": {},
   "source": [
    "## Start annotating"
   ]
  },
  {
   "cell_type": "code",
   "execution_count": null,
   "metadata": {},
   "outputs": [],
   "source": [
    "# Import pylighter annotation tool !\n",
    "from pylighter import Annotation"
   ]
  },
  {
   "cell_type": "code",
   "execution_count": null,
   "metadata": {},
   "outputs": [],
   "source": [
    "# Start annotating !\n",
    "Annotation(corpus)"
   ]
  },
  {
   "cell_type": "markdown",
   "metadata": {},
   "source": [
    "## Changing the labels"
   ]
  },
  {
   "cell_type": "markdown",
   "metadata": {},
   "source": [
    "There is a wide variety of NER tasks, so by default the possible labels are _l1_, _l2_, etc. \n",
    "You could remember that _l1_ is equivalent to the label _verb_, _l2_ to _person_ and so on. However, it is possible to change the names of labels, just like this:"
   ]
  },
  {
   "cell_type": "code",
   "execution_count": null,
   "metadata": {},
   "outputs": [],
   "source": [
    "labels_names = [\"Verb\", \"Person\", \"Org\", \"Loc\"]"
   ]
  },
  {
   "cell_type": "code",
   "execution_count": null,
   "metadata": {},
   "outputs": [],
   "source": [
    "annotation = Annotation(corpus, labels_names=labels_names)"
   ]
  },
  {
   "cell_type": "markdown",
   "metadata": {},
   "source": [
    "Now you can correctly annotate the corpus !"
   ]
  },
  {
   "cell_type": "markdown",
   "metadata": {},
   "source": [
    "## Retrieving the results"
   ]
  },
  {
   "cell_type": "markdown",
   "metadata": {},
   "source": [
    "At that point, you should have finished your annotation but you may wonder how to get your annotations. There is two ways:\n",
    "- Clicking on the save button\n",
    "- Accessing the labelise corpus directly"
   ]
  },
  {
   "cell_type": "markdown",
   "metadata": {},
   "source": [
    "### Using the save button"
   ]
  },
  {
   "cell_type": "markdown",
   "metadata": {},
   "source": [
    "When clicking on the save button, your annotations will be save in the file _annotation.csv_. It will also automatically save when you finished annotating all the corpus.\n",
    "\n",
    "The csv file will have two columns, the first one is each element of the corpus, the second one is the annotation of the corpus charachter by charachter in IOB2 format.\n",
    "\n",
    "Note: It is possible to change the path to the save file."
   ]
  },
  {
   "cell_type": "code",
   "execution_count": null,
   "metadata": {},
   "outputs": [],
   "source": [
    "path_to_save_file = \"annotation.csv\" # Which is the default one"
   ]
  },
  {
   "cell_type": "code",
   "execution_count": null,
   "metadata": {},
   "outputs": [],
   "source": [
    "Annotation(\n",
    "    corpus,\n",
    "    labels_names=labels_names,\n",
    "    save_path=path_to_save_file\n",
    ")"
   ]
  },
  {
   "cell_type": "markdown",
   "metadata": {},
   "source": [
    "You can now read access the elements in that file this:"
   ]
  },
  {
   "cell_type": "code",
   "execution_count": null,
   "metadata": {},
   "outputs": [],
   "source": [
    "import pandas as pd\n",
    "pd.read_csv(path_to_save_file, sep=\";\")"
   ]
  },
  {
   "cell_type": "markdown",
   "metadata": {},
   "source": [
    "### Direct access to the annotations"
   ]
  },
  {
   "cell_type": "markdown",
   "metadata": {},
   "source": [
    "If you access annotation.labels, you should see the labels of your annotations. You can then do whatever you want with it."
   ]
  },
  {
   "cell_type": "code",
   "execution_count": null,
   "metadata": {},
   "outputs": [],
   "source": [
    "my_annotation = annotation.labels"
   ]
  },
  {
   "cell_type": "markdown",
   "metadata": {},
   "source": [
    "If you expect to modify it, it is strongly recommended to do a deep copy of annotation.labels "
   ]
  },
  {
   "cell_type": "code",
   "execution_count": null,
   "metadata": {},
   "outputs": [],
   "source": [
    "from copy import deepcopy\n",
    "my_annotation = deepcopy(annotation.labels)"
   ]
  },
  {
   "cell_type": "markdown",
   "metadata": {},
   "source": [
    "## Final note"
   ]
  },
  {
   "cell_type": "markdown",
   "metadata": {},
   "source": [
    "At this point, you should have everything you need to start annotating. \n",
    "\n",
    "Bear in mind, that if you stumble upon more specific use cases, PyLighter offers more tools that is likely to respond to your need. You can read more about it in the README.md or in the Advanced usage demo. "
   ]
  }
 ],
 "metadata": {
  "kernelspec": {
   "display_name": "Python 3",
   "language": "python",
   "name": "python3"
  },
  "language_info": {
   "codemirror_mode": {
    "name": "ipython",
    "version": 3
   },
   "file_extension": ".py",
   "mimetype": "text/x-python",
   "name": "python",
   "nbconvert_exporter": "python",
   "pygments_lexer": "ipython3",
   "version": "3.7.9"
  }
 },
 "nbformat": 4,
 "nbformat_minor": 4
}
