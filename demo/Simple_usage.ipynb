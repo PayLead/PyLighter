{
 "cells": [
  {
   "cell_type": "markdown",
   "metadata": {},
   "source": [
    "# Using PyLighter for NER annotations"
   ]
  },
  {
   "cell_type": "markdown",
   "metadata": {},
   "source": [
    "This notebook is step by step guide for getting started with PyLighter !\n",
    "\n",
    "Before getting started, the task for this example is to annotate verbs, persons, organisations and localities. For this use let's define the following dataset."
   ]
  },
  {
   "cell_type": "markdown",
   "metadata": {},
   "source": [
    "## Defining the corpus"
   ]
  },
  {
   "cell_type": "code",
   "execution_count": 1,
   "metadata": {},
   "outputs": [],
   "source": [
    "# Defining the corpus of documents to use throughout this notebook\n",
    "corpus = [\n",
    "     \"PyLighter is an annotation tool for NER tasks directly on Jupyter. \" \n",
    "    + \"It aims on helping data scientists easily and quickly annotate datasets. \"\n",
    "    + \"This tool was develop by Etienne at Paylead.\",\n",
    "    \"PayLead is a fintech company specializing in transaction data analysis. \"\n",
    "    + \"The company develops ALO, a technology that enables to collect transaction data. \"\n",
    "    + \"Its SaaS platform enables brands to create advertising campaigns and target at \"\n",
    "    + \"pre-defined audience based on financial behavior.\"\n",
    "]"
   ]
  },
  {
   "cell_type": "markdown",
   "metadata": {},
   "source": [
    "## Start annotating"
   ]
  },
  {
   "cell_type": "code",
   "execution_count": 2,
   "metadata": {},
   "outputs": [],
   "source": [
    "# Import pylighter annotation tool !\n",
    "from pylighter import Annotation"
   ]
  },
  {
   "cell_type": "code",
   "execution_count": 3,
   "metadata": {},
   "outputs": [
    {
     "data": {
      "application/javascript": [
       "document.dispatchEvent(new KeyboardEvent('keydown', {    \"shiftKey\": true,    \"altKey\": true,    \"ctrlKey\": true,    \"key\": \",\"}));function shortcut_handler(e) {    if (        e.shiftKey == true         && e.altKey == true         && e.ctrlKey == true        && e.key == \",\"    ) {        document.removeEventListener('keydown', shortcut_handler);    }    if (    e.shiftKey == false     && e.altKey == true     && e.ctrlKey == false    && e.key == \"Dead\") {    let button = document.getElementsByClassName(\"id_class_name_for_shortcut_next\")[0];    button.click();}if (    e.shiftKey == false     && e.altKey == true     && e.ctrlKey == false    && e.key == \"π\") {    let button = document.getElementsByClassName(\"id_class_name_for_shortcut_previous\")[0];    button.click();}if (    e.shiftKey == false     && e.altKey == true     && e.ctrlKey == false    && e.key == \"Ò\") {    let button = document.getElementsByClassName(\"id_class_name_for_shortcut_skip\")[0];    button.click();}if (    e.shiftKey == true     && e.altKey == true     && e.ctrlKey == false    && e.key == \"∑\") {    let button = document.getElementsByClassName(\"id_class_name_for_shortcut_save\")[0];    button.click();}}document.addEventListener('keydown', shortcut_handler);"
      ],
      "text/plain": [
       "<IPython.core.display.Javascript object>"
      ]
     },
     "metadata": {},
     "output_type": "display_data"
    },
    {
     "data": {
      "application/vnd.jupyter.widget-view+json": {
       "model_id": "",
       "version_major": 2,
       "version_minor": 0
      },
      "text/plain": [
       "HTML(value='\\n        <style>\\n        .lds-dual-ring {\\n            display: flex;\\n            margin: auto;…"
      ]
     },
     "metadata": {},
     "output_type": "display_data"
    },
    {
     "data": {
      "application/vnd.jupyter.widget-view+json": {
       "model_id": "10874adbdb35422f824feaaaa6593be2",
       "version_major": 2,
       "version_minor": 0
      },
      "text/plain": [
       "HTML(value='<style>.char_display {    font-size: medium ;    margin: 2px 0 2px 0;    padding:0;    height: 1.3…"
      ]
     },
     "metadata": {},
     "output_type": "display_data"
    },
    {
     "data": {
      "application/vnd.jupyter.widget-view+json": {
       "model_id": "24537ee0a0a84bedb73462b6dc945b20",
       "version_major": 2,
       "version_minor": 0
      },
      "text/plain": [
       "VBox(children=(HBox(children=(HTML(value='<h4>Document <b>n°</b></h4>'), BoundedIntText(value=0, max=1, _dom_c…"
      ]
     },
     "metadata": {},
     "output_type": "display_data"
    },
    {
     "data": {
      "application/vnd.jupyter.widget-view+json": {
       "model_id": "c1e700ff43ee4b0888ff106261a8802f",
       "version_major": 2,
       "version_minor": 0
      },
      "text/plain": [
       "HBox(children=(HBox(children=(Button(button_style='info', description='Previous', icon='chevron-left', style=B…"
      ]
     },
     "metadata": {},
     "output_type": "display_data"
    },
    {
     "data": {
      "application/vnd.jupyter.widget-view+json": {
       "model_id": "db1c6d167eb2469e87f47e722fb7faff",
       "version_major": 2,
       "version_minor": 0
      },
      "text/plain": [
       "GridBox(children=(VBox(children=(HBox(children=(Button(description='l1', style=ButtonStyle(), _dom_classes=('l…"
      ]
     },
     "metadata": {},
     "output_type": "display_data"
    },
    {
     "data": {
      "application/vnd.jupyter.widget-view+json": {
       "model_id": "8e21cd980e8643108302381d8d1732fa",
       "version_major": 2,
       "version_minor": 0
      },
      "text/plain": [
       "HBox(children=(Button(button_style='danger', description='Quit', icon='sign-out', style=ButtonStyle(), _dom_cl…"
      ]
     },
     "metadata": {},
     "output_type": "display_data"
    },
    {
     "data": {
      "application/javascript": [
       "let snackbar = document.getElementById('snackbar')\n",
       "                if (snackbar) {\n",
       "                    snackbar.remove()\n",
       "                }"
      ],
      "text/plain": [
       "<IPython.core.display.Javascript object>"
      ]
     },
     "metadata": {},
     "output_type": "display_data"
    },
    {
     "data": {
      "application/vnd.jupyter.widget-view+json": {
       "model_id": "f426ca4db7344d3d8ae242f89a7006e0",
       "version_major": 2,
       "version_minor": 0
      },
      "text/plain": [
       "HTML(value='<style>.snackbar-success {    background-color:#4caf50;}.snackbar-error {    background-color: #f4…"
      ]
     },
     "metadata": {},
     "output_type": "display_data"
    },
    {
     "data": {
      "application/javascript": [
       "document.body.appendChild(document.getElementById('snackbar'))"
      ],
      "text/plain": [
       "<IPython.core.display.Javascript object>"
      ]
     },
     "metadata": {},
     "output_type": "display_data"
    },
    {
     "data": {
      "text/plain": [
       "<pylighter.annotation.Annotation at 0x7f88285afb90>"
      ]
     },
     "execution_count": 3,
     "metadata": {},
     "output_type": "execute_result"
    }
   ],
   "source": [
    "# Start annotating !\n",
    "Annotation(corpus)"
   ]
  },
  {
   "cell_type": "markdown",
   "metadata": {},
   "source": [
    "## Changing the labels"
   ]
  },
  {
   "cell_type": "markdown",
   "metadata": {},
   "source": [
    "There is wide variety of NER tasks, so by default the possible labels are _l1_, _l2_, etc. \n",
    "You could remember that _l1_ is equivalent to the label _verb_, _l2_ to _person_ and so on. However, it is possible to change the names of labels, just like this:"
   ]
  },
  {
   "cell_type": "code",
   "execution_count": null,
   "metadata": {},
   "outputs": [],
   "source": [
    "labels_names = [\"Verb\", \"Person\", \"Org\", \"Loc\"]"
   ]
  },
  {
   "cell_type": "code",
   "execution_count": null,
   "metadata": {},
   "outputs": [],
   "source": [
    "annotation = Annotation(corpus, labels_names=labels_names)"
   ]
  },
  {
   "cell_type": "markdown",
   "metadata": {},
   "source": [
    "Now you can correctly annotate the corpus !"
   ]
  },
  {
   "cell_type": "markdown",
   "metadata": {},
   "source": [
    "## Retrieving the results"
   ]
  },
  {
   "cell_type": "markdown",
   "metadata": {},
   "source": [
    "At that point, you should have finished your annotation but you may wonder how to get your annotations. There is two ways:\n",
    "- Clicking on the save button\n",
    "- Accessing the labelise corpus directly"
   ]
  },
  {
   "cell_type": "markdown",
   "metadata": {},
   "source": [
    "### Using the save button"
   ]
  },
  {
   "cell_type": "markdown",
   "metadata": {},
   "source": [
    "When clicking on the save button, your annotations will be save in the file _annotation.csv_. It will also automatically save when you finished annotating all the corpus.\n",
    "\n",
    "The csv file will have two columns, the first one is each element of the corpus, the second one is the annotation of the corpus charachter by charachter in IOB2 format.\n",
    "\n",
    "Note: It is possible to change the path to the save file."
   ]
  },
  {
   "cell_type": "code",
   "execution_count": null,
   "metadata": {},
   "outputs": [],
   "source": [
    "path_to_save_file = \"annotation.csv\" # Which is the default one"
   ]
  },
  {
   "cell_type": "code",
   "execution_count": null,
   "metadata": {},
   "outputs": [],
   "source": [
    "Annotation(\n",
    "    corpus,\n",
    "    labels_names=labels_names,\n",
    "    save_path=path_to_save_file\n",
    ")"
   ]
  },
  {
   "cell_type": "markdown",
   "metadata": {},
   "source": [
    "You can now read access the elements in that file this:"
   ]
  },
  {
   "cell_type": "code",
   "execution_count": null,
   "metadata": {},
   "outputs": [],
   "source": [
    "import pandas as pd\n",
    "pd.read_csv(path_to_save_file, sep=\";\")"
   ]
  },
  {
   "cell_type": "markdown",
   "metadata": {},
   "source": [
    "### Direct access to the annotations"
   ]
  },
  {
   "cell_type": "markdown",
   "metadata": {},
   "source": [
    "If you access annotation.labels, you should see the labels of your annotations. You can then do whatever you want with it."
   ]
  },
  {
   "cell_type": "code",
   "execution_count": null,
   "metadata": {},
   "outputs": [],
   "source": [
    "my_annotation = annotation.labels"
   ]
  },
  {
   "cell_type": "markdown",
   "metadata": {},
   "source": [
    "If you expect to modify it, it is strongly recommended to do a deep copy of annotation.labels "
   ]
  },
  {
   "cell_type": "code",
   "execution_count": null,
   "metadata": {},
   "outputs": [],
   "source": [
    "from copy import deepcopy\n",
    "my_annotation = deepcopy(annotation.labels)"
   ]
  },
  {
   "cell_type": "markdown",
   "metadata": {},
   "source": [
    "## Final note"
   ]
  },
  {
   "cell_type": "markdown",
   "metadata": {},
   "source": [
    "At this point, you should have everything you need to start annotating. \n",
    "\n",
    "Bear in mind, that if you stumble upon more specific use cases, PyLighter offers more tools that is likely to respond to your need. You can read more about it in the README.md or in the Advanced usage demo. "
   ]
  }
 ],
 "metadata": {
  "kernelspec": {
   "display_name": "Python 3",
   "language": "python",
   "name": "python3"
  },
  "language_info": {
   "codemirror_mode": {
    "name": "ipython",
    "version": 3
   },
   "file_extension": ".py",
   "mimetype": "text/x-python",
   "name": "python",
   "nbconvert_exporter": "python",
   "pygments_lexer": "ipython3",
   "version": "3.7.9"
  }
 },
 "nbformat": 4,
 "nbformat_minor": 4
}
