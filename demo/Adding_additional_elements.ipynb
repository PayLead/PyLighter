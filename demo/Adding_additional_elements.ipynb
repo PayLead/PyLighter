{
 "cells": [
  {
   "cell_type": "markdown",
   "metadata": {},
   "source": [
    "# Adding additional elements to help annotation"
   ]
  },
  {
   "cell_type": "markdown",
   "metadata": {},
   "source": [
    "This notebook assumes that you are familiar with the basic usage of PyLigher. If not you can read the README.md or check the Simple_usage notebook.\n",
    "\n",
    "The aim of this notebook is to add elements specific to each document when annotating. There is two types of information you may want to add:\n",
    "- Additional information\n",
    "- Additional outputs\n",
    "\n",
    "Additional information are information that are specific to each document and that are not meant to be changed during the annotation. For instance, the source of the document and the date of the document are additional information.\n",
    "\n",
    "Additional outputs are information that can be changed during the annotation. For instance, you may want to have  inputs to write your level of confidence in your annotation, to write comments, to flag the document as inappropriate, etc.\n",
    "\n",
    "The first part of this notebook covers additional information while the second part covers additional outputs."
   ]
  },
  {
   "cell_type": "code",
   "execution_count": null,
   "metadata": {},
   "outputs": [],
   "source": [
    "# Defining the corpus of documents to use throughout this notebook\n",
    "corpus = [\n",
    "     \"PyLighter is an annotation tool for NER tasks directly on Jupyter. \" \n",
    "    + \"It aims on helping data scientists easily and quickly annotate datasets. \"\n",
    "    + \"This tool was developed by Paylead.\",\n",
    "    \"PayLead is a fintech company specializing in transaction data analysis. \"\n",
    "    + \"Paylead brings retail and banking together, so customers get rewarded when they buy. \" \n",
    "    + \"Welcome to the data-for-value economy.\"\n",
    "]"
   ]
  },
  {
   "cell_type": "markdown",
   "metadata": {},
   "source": [
    "## Adding additional information"
   ]
  },
  {
   "cell_type": "markdown",
   "metadata": {},
   "source": [
    "The goal of this section is to show the source and the date of each document during the annotation.\n",
    "\n",
    "Additonal information need to be in pandas DataFrame. The name of the column will be used to display additional text. When using it, make sure that your DataFrame has _len(corpus)_ rows."
   ]
  },
  {
   "cell_type": "code",
   "execution_count": null,
   "metadata": {},
   "outputs": [],
   "source": [
    "# Defining the information to add\n",
    "import pandas as pd\n",
    "import datetime\n",
    "additional_infos = pd.DataFrame({\n",
    "    \"source\":[\"Github\", \"paylead.fr\"],\n",
    "    \"date\":[datetime.datetime.now(), datetime.datetime.now() - datetime.timedelta(days=365)]\n",
    "})"
   ]
  },
  {
   "cell_type": "markdown",
   "metadata": {},
   "source": [
    "## Start annotating"
   ]
  },
  {
   "cell_type": "code",
   "execution_count": null,
   "metadata": {},
   "outputs": [],
   "source": [
    "from pylighter import Annotation\n",
    "annotation = Annotation(corpus, additional_infos=additional_infos)"
   ]
  },
  {
   "cell_type": "markdown",
   "metadata": {},
   "source": [
    "## Adding additional outputs"
   ]
  },
  {
   "cell_type": "markdown",
   "metadata": {},
   "source": [
    "The goal of this section is to add an input to flag a document as inappropriate, to add an input field to mark our confidence in our annotation, and an input to add comments.\n",
    "\n",
    "Note: A good way to handle:\n",
    "- boolean values is to use a checkbox.\n",
    "- float values is to use float_text (int_text also exists for ints)\n",
    "- text is to use text (text_area also exists for large texts)"
   ]
  },
  {
   "cell_type": "markdown",
   "metadata": {},
   "source": [
    "To add an input to pylighter you need to use AdditionalOutputElement."
   ]
  },
  {
   "cell_type": "code",
   "execution_count": null,
   "metadata": {},
   "outputs": [],
   "source": [
    "from pylighter import AdditionalOutputElement, Annotation"
   ]
  },
  {
   "cell_type": "code",
   "execution_count": null,
   "metadata": {},
   "outputs": [],
   "source": [
    "flag_element = AdditionalOutputElement(\n",
    "    name=\"is_inappropriate\",  # Name of the field\n",
    "    display_type=\"checkbox\",  # Type of display in [\"checkbox\", \"int_text\", \"float_text\", \"text\", \"text_area\"]\n",
    "    description=\"Is this document inappropriate\",  # Description to display\n",
    "    default_value=False,  # Default value to use\n",
    ")\n",
    "\n",
    "confidence_element = AdditionalOutputElement(\n",
    "    name=\"confidence_score\",  # Name of the field\n",
    "    display_type=\"float_text\",  # Type of display in [\"checkbox\", \"int_text\", \"float_text\", \"text\", \"text_area\"]\n",
    "    description=\"Confidence in your annotation\",  # Description to display\n",
    "    default_value=1,  # Default value to use\n",
    ")\n",
    "\n",
    "comment_element = AdditionalOutputElement(\n",
    "    name=\"comment\",  # Name of the field\n",
    "    display_type=\"text_area\",  # Type of display in [\"checkbox\", \"int_text\", \"float_text\", \"text\", \"text_area\"]\n",
    "    description=\"Comment\",  # Description to display\n",
    "    default_value=\"\",  # Default value to use\n",
    ")\n",
    "\n",
    "additional_outputs_elements = [flag_element, confidence_element, comment_element]"
   ]
  },
  {
   "cell_type": "code",
   "execution_count": null,
   "metadata": {},
   "outputs": [],
   "source": [
    "annotation = Annotation(corpus, additional_outputs_elements=additional_outputs_elements)"
   ]
  },
  {
   "cell_type": "markdown",
   "metadata": {},
   "source": [
    "### Retrieving the results"
   ]
  },
  {
   "cell_type": "markdown",
   "metadata": {},
   "source": [
    "At that point, you should have finished your annotation but you may wonder how to get your annotations and your additional ouputs. There is two ways:\n",
    "- Clicking on the save button\n",
    "- Accessing the labelise corpus directly\n",
    "\n",
    "When clicking on the save button, the additional outputs will be automatically added to the csv.\n",
    "\n",
    "Or if you want it them right away, you can access the element _annotation.additional_ouptuts_values_ which is a pandas DataFrame."
   ]
  },
  {
   "cell_type": "code",
   "execution_count": null,
   "metadata": {},
   "outputs": [],
   "source": [
    "from copy import deepcopy\n",
    "my_annotation = deepcopy(annotation.labels)\n",
    "my_additional_outputs = annotation.additional_outputs_values.copy()"
   ]
  },
  {
   "cell_type": "markdown",
   "metadata": {},
   "source": [
    "### Using an already annotated corpus with additional outputs"
   ]
  },
  {
   "cell_type": "markdown",
   "metadata": {},
   "source": [
    "In some cases, you may want to annotate an already annotated corpus and thus use the already filled additional outputs. To do so, you can use the _additional_outputs_values_ argument.\n",
    "\n",
    "It works the same as the argument labels does. You can see more on this in the associated notebook or in the README.md.\n",
    "\n",
    "Note: Do not forget to still add your additional outputs elements and make sure that it is having the correct size (ie. len(corpus)) and the same columns names as the names in the _additional_output_elements_."
   ]
  },
  {
   "cell_type": "code",
   "execution_count": null,
   "metadata": {},
   "outputs": [],
   "source": [
    "already_annotated = Annotation(corpus, \n",
    "                               labels=my_annotation, \n",
    "                               additional_outputs_values=my_additional_outputs, \n",
    "                               additional_outputs_elements=additional_outputs_elements)"
   ]
  }
 ],
 "metadata": {
  "kernelspec": {
   "display_name": "Python 3",
   "language": "python",
   "name": "python3"
  },
  "language_info": {
   "codemirror_mode": {
    "name": "ipython",
    "version": 3
   },
   "file_extension": ".py",
   "mimetype": "text/x-python",
   "name": "python",
   "nbconvert_exporter": "python",
   "pygments_lexer": "ipython3",
   "version": "3.7.9"
  }
 },
 "nbformat": 4,
 "nbformat_minor": 4
}
